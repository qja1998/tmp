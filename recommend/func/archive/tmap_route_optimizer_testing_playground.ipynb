{
 "cells": [
  {
   "cell_type": "code",
   "execution_count": 1,
   "metadata": {},
   "outputs": [],
   "source": [
    "import os \n",
    "import json\n",
    "import pandas as pd\n",
    "from dotenv import load_dotenv\n",
    "from tmap_route_optimizer import TMAPClient, PlaceDataManager, RouteOptimizer"
   ]
  },
  {
   "cell_type": "code",
   "execution_count": 2,
   "metadata": {},
   "outputs": [
    {
     "name": "stdout",
     "output_type": "stream",
     "text": [
      "JOeybOg77D3jHQQCuAlpz64ekpyXxTsX3HvVTQmi\n"
     ]
    }
   ],
   "source": [
    "# 초기화 및 사용 예제\n",
    "load_dotenv()\n",
    "api_key = os.getenv(\"SK_OPEN_API_KEY\")\n",
    "print(api_key)"
   ]
  },
  {
   "cell_type": "code",
   "execution_count": 3,
   "metadata": {},
   "outputs": [],
   "source": [
    "tmap_client = TMAPClient(api_key)\n",
    "place_data_manager = PlaceDataManager(file_name=\"추천장소통합리스트.csv\")\n",
    "route_optimizer = RouteOptimizer(tmap_client, place_data_manager)"
   ]
  },
  {
   "cell_type": "code",
   "execution_count": 4,
   "metadata": {},
   "outputs": [
    {
     "name": "stdout",
     "output_type": "stream",
     "text": [
      "c:\\Users\\SSAFY\\Desktop\\workspace\\odysseyes\\recommend\\func\\..\\data\\추천장소통합리스트.csv\n"
     ]
    }
   ],
   "source": [
    "print(place_data_manager)"
   ]
  },
  {
   "cell_type": "code",
   "execution_count": 4,
   "metadata": {},
   "outputs": [],
   "source": [
    "place_data = pd.read_csv('../data/추천장소통합리스트.csv')"
   ]
  },
  {
   "cell_type": "code",
   "execution_count": 8,
   "metadata": {},
   "outputs": [
    {
     "data": {
      "text/html": [
       "<div>\n",
       "<style scoped>\n",
       "    .dataframe tbody tr th:only-of-type {\n",
       "        vertical-align: middle;\n",
       "    }\n",
       "\n",
       "    .dataframe tbody tr th {\n",
       "        vertical-align: top;\n",
       "    }\n",
       "\n",
       "    .dataframe thead th {\n",
       "        text-align: right;\n",
       "    }\n",
       "</style>\n",
       "<table border=\"1\" class=\"dataframe\">\n",
       "  <thead>\n",
       "    <tr style=\"text-align: right;\">\n",
       "      <th></th>\n",
       "      <th>index</th>\n",
       "      <th>목적지명</th>\n",
       "      <th>분류</th>\n",
       "      <th>지역</th>\n",
       "      <th>위도</th>\n",
       "      <th>경도</th>\n",
       "      <th>방문건수순위</th>\n",
       "      <th>구글지도평점</th>\n",
       "      <th>데이터랩점수</th>\n",
       "      <th>방문건수순위점수</th>\n",
       "      <th>최종점수</th>\n",
       "    </tr>\n",
       "  </thead>\n",
       "  <tbody>\n",
       "    <tr>\n",
       "      <th>0</th>\n",
       "      <td>10</td>\n",
       "      <td>매향</td>\n",
       "      <td>식당</td>\n",
       "      <td>공주</td>\n",
       "      <td>36.465585</td>\n",
       "      <td>127.121616</td>\n",
       "      <td>11</td>\n",
       "      <td>0.0</td>\n",
       "      <td>0.64</td>\n",
       "      <td>0.47</td>\n",
       "      <td>1.11</td>\n",
       "    </tr>\n",
       "  </tbody>\n",
       "</table>\n",
       "</div>"
      ],
      "text/plain": [
       "   index 목적지명  분류  지역         위도          경도  방문건수순위  구글지도평점  데이터랩점수  \\\n",
       "0     10   매향  식당  공주  36.465585  127.121616      11     0.0    0.64   \n",
       "\n",
       "   방문건수순위점수  최종점수  \n",
       "0      0.47  1.11  "
      ]
     },
     "execution_count": 8,
     "metadata": {},
     "output_type": "execute_result"
    }
   ],
   "source": [
    "place_data[place_data['목적지명'] == '매향']"
   ]
  },
  {
   "cell_type": "code",
   "execution_count": 14,
   "metadata": {},
   "outputs": [
    {
     "data": {
      "text/plain": [
       "{'위도': 36.4655850923676, '경도': 127.12161594927552}"
      ]
     },
     "execution_count": 14,
     "metadata": {},
     "output_type": "execute_result"
    }
   ],
   "source": [
    "poi_dict = place_data[place_data['목적지명'] == '매향'].to_dict(orient='records')[0]\n",
    "\n",
    "keys_to_extract = ['목적지명', '위도', '경도']\n",
    "\n",
    "new_poi_dict = {key: poi_dict[key] for key in keys_to_extract if key in poi_dict}\n",
    "\n",
    "new_poi_dict"
   ]
  },
  {
   "cell_type": "code",
   "execution_count": null,
   "metadata": {},
   "outputs": [],
   "source": [
    "top_routes = route_optimizer.get_top_k_routes(\n",
    "    start_place=\"유성구 덕명동 515-3\",\n",
    "    end_place=\"유성구 덕명동 515-3\",\n",
    "    region=\"부여\",\n",
    "    festival_place=\"백제문화단지\",\n",
    "    top_k=3\n",
    ")"
   ]
  },
  {
   "cell_type": "code",
   "execution_count": null,
   "metadata": {},
   "outputs": [],
   "source": [
    "# JSON 포맷으로 보기 좋게 출력\n",
    "print(json.dumps(top_routes, indent=4, ensure_ascii=False))"
   ]
  },
  {
   "cell_type": "code",
   "execution_count": 6,
   "metadata": {},
   "outputs": [],
   "source": [
    "# JSON 파일에 데이터 저장\n",
    "with open(\"top_routes.json\", \"w\", encoding=\"utf-8\") as file:\n",
    "    json.dump(top_routes, file, ensure_ascii=False, indent=4)"
   ]
  }
 ],
 "metadata": {
  "kernelspec": {
   "display_name": "venv",
   "language": "python",
   "name": "python3"
  },
  "language_info": {
   "codemirror_mode": {
    "name": "ipython",
    "version": 3
   },
   "file_extension": ".py",
   "mimetype": "text/x-python",
   "name": "python",
   "nbconvert_exporter": "python",
   "pygments_lexer": "ipython3",
   "version": "3.9.13"
  }
 },
 "nbformat": 4,
 "nbformat_minor": 2
}
