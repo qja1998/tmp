{
 "cells": [
  {
   "cell_type": "code",
   "execution_count": 40,
   "metadata": {},
   "outputs": [],
   "source": [
    "import os\n",
    "import requests\n",
    "import json\n",
    "from dotenv import load_dotenv\n",
    "\n",
    "load_dotenv()\n",
    "search_keyword = \"백제문화제\"\n",
    "API_KEY = os.environ['API_KEY']\n",
    "URL = f\"http://apis.data.go.kr/B551011/KorService1/searchKeyword1?numOfRows=12&pageNo=1&MobileOS=ETC&MobileApp=AppTest&ServiceKey={API_KEY}&listYN=Y&arrange=A&areaCode=&sigunguCode=&cat1=A02&cat2=A0207&cat3=&keyword={search_keyword}&_type=json\""
   ]
  },
  {
   "cell_type": "code",
   "execution_count": 41,
   "metadata": {},
   "outputs": [],
   "source": [
    "response = requests.get(URL)"
   ]
  },
  {
   "cell_type": "code",
   "execution_count": 42,
   "metadata": {},
   "outputs": [
    {
     "data": {
      "text/plain": [
       "'{\"response\": {\"header\":{\"resultCode\":\"0000\",\"resultMsg\":\"OK\"},\"body\": {\"items\": {\"item\":[{\"addr1\":\"충청남도 공주시 금벽로 368 (신관동)\",\"addr2\":\"공주 금강신관공원, 충청남도 부여군 규암면 백제문로 455 백제문화단지\",\"areacode\":\"34\",\"booktour\":\"\",\"cat1\":\"A02\",\"cat2\":\"A0207\",\"cat3\":\"A02070200\",\"contentid\":\"952988\",\"contenttypeid\":\"15\",\"createdtime\":\"20100219201036\",\"firstimage\":\"http://tong.visitkorea.or.kr/cms/resource/46/2953046_image2_1.jpg\",\"firstimage2\":\"http://tong.visitkorea.or.kr/cms/resource/46/2953046_image3_1.jpg\",\"cpyrhtDivCd\":\"Type3\",\"mapx\":\"127.1275545162\",\"mapy\":\"36.4702917892\",\"mlevel\":\"6\",\"modifiedtime\":\"20240808174411\",\"sigungucode\":\"1\",\"tel\":\"공주시 041-840-8090\\\\u003cbr\\\\u003e부여군 041-830-2208\",\"title\":\"백제문화제\"},{\"addr1\":\"서울특별시 송파구 올림픽로 424 올림픽공원\",\"addr2\":\"올림픽공원 평화의 광장\",\"areacode\":\"1\",\"booktour\":\"\",\"cat1\":\"A02\",\"cat2\":\"A0207\",\"cat3\":\"A02070200\",\"contentid\":\"507531\",\"contenttypeid\":\"15\",\"createdtime\":\"20080310200611\",\"firstimage\":\"http://tong.visitkorea.or.kr/cms/resource/32/3348232_image2_1.jpg\",\"firstimage2\":\"http://tong.visitkorea.or.kr/cms/resource/32/3348232_image3_1.jpg\",\"cpyrhtDivCd\":\"Type3\",\"mapx\":\"127.1150682209\",\"mapy\":\"37.5206092598\",\"mlevel\":\"6\",\"modifiedtime\":\"20240814133609\",\"sigungucode\":\"18\",\"tel\":\"02-2147-2800\",\"title\":\"한성백제문화제\"}]},\"numOfRows\":2,\"pageNo\":1,\"totalCount\":2}}}'"
      ]
     },
     "execution_count": 42,
     "metadata": {},
     "output_type": "execute_result"
    }
   ],
   "source": [
    "response.text"
   ]
  },
  {
   "cell_type": "code",
   "execution_count": 43,
   "metadata": {},
   "outputs": [],
   "source": [
    "result = response.json()"
   ]
  },
  {
   "cell_type": "code",
   "execution_count": 53,
   "metadata": {},
   "outputs": [
    {
     "data": {
      "text/plain": [
       "{'addr1': '충청남도 공주시 금벽로 368 (신관동)',\n",
       " 'addr2': '공주 금강신관공원, 충청남도 부여군 규암면 백제문로 455 백제문화단지',\n",
       " 'areacode': '34',\n",
       " 'booktour': '',\n",
       " 'cat1': 'A02',\n",
       " 'cat2': 'A0207',\n",
       " 'cat3': 'A02070200',\n",
       " 'contentid': '952988',\n",
       " 'contenttypeid': '15',\n",
       " 'createdtime': '20100219201036',\n",
       " 'firstimage': 'http://tong.visitkorea.or.kr/cms/resource/46/2953046_image2_1.jpg',\n",
       " 'firstimage2': 'http://tong.visitkorea.or.kr/cms/resource/46/2953046_image3_1.jpg',\n",
       " 'cpyrhtDivCd': 'Type3',\n",
       " 'mapx': '127.1275545162',\n",
       " 'mapy': '36.4702917892',\n",
       " 'mlevel': '6',\n",
       " 'modifiedtime': '20240808174411',\n",
       " 'sigungucode': '1',\n",
       " 'tel': '공주시 041-840-8090<br>부여군 041-830-2208',\n",
       " 'title': '백제문화제'}"
      ]
     },
     "execution_count": 53,
     "metadata": {},
     "output_type": "execute_result"
    }
   ],
   "source": [
    "result['response']['body']['items']['item'][0]"
   ]
  },
  {
   "cell_type": "code",
   "execution_count": null,
   "metadata": {},
   "outputs": [],
   "source": []
  }
 ],
 "metadata": {
  "kernelspec": {
   "display_name": "bigcon",
   "language": "python",
   "name": "python3"
  },
  "language_info": {
   "codemirror_mode": {
    "name": "ipython",
    "version": 3
   },
   "file_extension": ".py",
   "mimetype": "text/x-python",
   "name": "python",
   "nbconvert_exporter": "python",
   "pygments_lexer": "ipython3",
   "version": "3.10.14"
  }
 },
 "nbformat": 4,
 "nbformat_minor": 2
}
